{
 "cells": [
  {
   "cell_type": "code",
   "execution_count": null,
   "metadata": {},
   "outputs": [],
   "source": [
    "import os\n",
    "import json\n",
    "import boto3\n",
    "import sagemaker\n",
    "from opensearchpy import OpenSearch, RequestsHttpConnection, AWSV4SignerAuth, helpers\n",
    "import s3fs"
   ]
  },
  {
   "cell_type": "code",
   "execution_count": null,
   "metadata": {},
   "outputs": [],
   "source": [
    "with open(\"oss_policies_info.json\", \"r\") as f:\n",
    "    saved_data = json.load(f)\n",
    "\n",
    "host = saved_data[\"opensearch_host\"]\n",
    "index_name = saved_data[\"opensearch_index_name\"]\n",
    "vector_store_name = saved_data[\"vector_store_name\"]\n",
    "encryption_policy = saved_data[\"encryption_policy\"]\n",
    "network_policy = saved_data[\"network_policy\"]\n",
    "access_policy = saved_data[\"access_policy\"]\n",
    "\n",
    "\n",
    "print(f\"\"\"OpenSearch Host: {host}\\n \\\n",
    "        Index Name    : {index_name}\"\"\")\n",
    "\n",
    "print(f\"\"\"Vector Store Name: {vector_store_name}\\n \\\n",
    "        Encryption Policy: {encryption_policy}\\n \\\n",
    "        Network Policy   : {network_policy} \\n \\\n",
    "        Access Policy    : {access_policy}\"\"\")"
   ]
  },
  {
   "cell_type": "code",
   "execution_count": null,
   "metadata": {},
   "outputs": [],
   "source": [
    "## Initialize boto3 session ## \n",
    "boto3_session = boto3.session.Session(region_name='us-west-2')\n",
    "print(f'The notebook will use aws services hosted in {boto3_session.region_name} region')\n",
    "\n",
    "# initialize boto3 clients for required AWS services\n",
    "sts_client = boto3_session.client('sts')\n",
    "s3_client = boto3_session.client('s3')\n",
    "opensearchservice_client = boto3_session.client('opensearchserverless')\n",
    "\n",
    "service = 'aoss'\n",
    "credentials = boto3.Session().get_credentials()\n",
    "awsauth = AWSV4SignerAuth(credentials, boto3_session.region_name, service)\n",
    "\n",
    "oss_client = OpenSearch(\n",
    "    hosts=[{'host': host, 'port': 443}],\n",
    "    http_auth=awsauth,\n",
    "    use_ssl=True,\n",
    "    verify_certs=True,\n",
    "    connection_class=RequestsHttpConnection,\n",
    "    timeout=600\n",
    ")"
   ]
  },
  {
   "cell_type": "code",
   "execution_count": null,
   "metadata": {},
   "outputs": [],
   "source": [
    "## clean up \n",
    "# delete vector index\n",
    "try:\n",
    "    oss_client.indices.delete(index=index_name)\n",
    "    print('Index Deleted')\n",
    "except Exception as e:\n",
    "    print('Index already deleted or not found')\n",
    "\n",
    "# delete data, network, and encryption access ploicies\n",
    "try:\n",
    "    opensearchservice_client.delete_access_policy(type=\"data\", name=access_policy['accessPolicyDetail']['name'])\n",
    "    print('Access Policy Deleted')\n",
    "    opensearchservice_client.delete_security_policy(type=\"network\", name=network_policy['securityPolicyDetail']['name'])\n",
    "    print('Network Security Policy Deleted')\n",
    "    opensearchservice_client.delete_security_policy(type=\"encryption\", name=encryption_policy['securityPolicyDetail']['name'])\n",
    "    print('Encryption Security Policy Deleted')\n",
    "except Exception as e:\n",
    "    print('Access and Security Policies already deleted or not found')\n",
    "\n",
    "# delete collection\n",
    "try:\n",
    "    response = opensearchservice_client.list_collections()\n",
    "    for collection in response['collectionSummaries']:\n",
    "        if collection['name'] == vector_store_name:\n",
    "            vs_collection_id = collection.get('id', 'unknown')\n",
    "            opensearchservice_client.delete_collection(id=vs_collection_id)\n",
    "            print('OpenSearch Collection Deleted')\n",
    "except Exception as e:\n",
    "    print('Collection already deleted or not found')"
   ]
  }
 ],
 "metadata": {
  "kernelspec": {
   "display_name": "base",
   "language": "python",
   "name": "python3"
  },
  "language_info": {
   "codemirror_mode": {
    "name": "ipython",
    "version": 3
   },
   "file_extension": ".py",
   "mimetype": "text/x-python",
   "name": "python",
   "nbconvert_exporter": "python",
   "pygments_lexer": "ipython3",
   "version": "3.9.12"
  },
  "orig_nbformat": 4,
  "vscode": {
   "interpreter": {
    "hash": "2c97182bcee1c5a46c75e12f527516848bb4d812af65bc6ddf5c082f318f5a83"
   }
  }
 },
 "nbformat": 4,
 "nbformat_minor": 2
}
