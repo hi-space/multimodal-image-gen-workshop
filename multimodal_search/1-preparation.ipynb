{
 "cells": [
  {
   "attachments": {},
   "cell_type": "markdown",
   "metadata": {},
   "source": [
    "# [0] 필요한 모듈 설치\n",
    " - 이 작업은 초기에 한번만 수행되면 됩니다"
   ]
  },
  {
   "cell_type": "code",
   "execution_count": null,
   "metadata": {},
   "outputs": [],
   "source": [
    "!pip install --quiet opensearch-py requests-aws4auth boto3 botocore awscli s3fs sagemaker"
   ]
  },
  {
   "cell_type": "code",
   "execution_count": null,
   "metadata": {},
   "outputs": [],
   "source": [
    "## restart the Kernel to load installed libraries \n",
    "from IPython.core.display import HTML\n",
    "HTML(\"<script>Jupyter.notebook.kernel.restart()</script>\")\n",
    "HTML(\"<h3>Kernel Restart complete</h3>\")"
   ]
  },
  {
   "cell_type": "markdown",
   "metadata": {},
   "source": [
    "---"
   ]
  },
  {
   "cell_type": "code",
   "execution_count": null,
   "metadata": {},
   "outputs": [],
   "source": [
    "import os\n",
    "import sys\n",
    "\n",
    "ROOT_PATH = os.path.abspath(\"../\")\n",
    "sys.path.append(ROOT_PATH)"
   ]
  },
  {
   "cell_type": "code",
   "execution_count": null,
   "metadata": {},
   "outputs": [],
   "source": [
    "import pandas as pd\n",
    "import re\n",
    "import secrets\n",
    "import json\n",
    "import time\n",
    "import base64\n",
    "import numpy as np\n",
    "from PIL import Image\n",
    "from io import BytesIO\n",
    "from concurrent.futures import ThreadPoolExecutor, as_completed\n",
    "\n",
    "import boto3\n",
    "import sagemaker\n",
    "from opensearchpy import OpenSearch, RequestsHttpConnection, AWSV4SignerAuth, helpers\n",
    "from opensearchpy.exceptions import NotFoundError\n",
    "\n",
    "from common.dataset.dataloader import DataLoader, LanguageTag\n",
    "from common.aws.embedding import BedrockEmbedding\n",
    "from common.utils.images import encode_image_base64, display_image"
   ]
  },
  {
   "cell_type": "code",
   "execution_count": null,
   "metadata": {},
   "outputs": [],
   "source": [
    "## Initialize boto3 session ## \n",
    "boto3_session = boto3.session.Session(region_name='us-west-2')\n",
    "print(f'The notebook will use aws services hosted in {boto3_session.region_name} region')\n",
    "\n",
    "# initialize boto3 clients for required AWS services\n",
    "sts_client = boto3_session.client('sts')\n",
    "s3_client = boto3_session.client('s3')\n",
    "opensearchservice_client = boto3_session.client('opensearchserverless')\n",
    "\n",
    "# initiailize a SageMaker role ARN \n",
    "sagemaker_role_arn = sagemaker.get_execution_role()\n",
    "\n",
    "bedrock_embedding = BedrockEmbedding(region=boto3_session.region_name)"
   ]
  },
  {
   "attachments": {},
   "cell_type": "markdown",
   "metadata": {},
   "source": [
    "# [1] 리소스 준비"
   ]
  },
  {
   "attachments": {},
   "cell_type": "markdown",
   "metadata": {},
   "source": [
    "## [1-1] OpenSearchServerless 생성에 필요한 policy 생성"
   ]
  },
  {
   "cell_type": "code",
   "execution_count": null,
   "metadata": {},
   "outputs": [],
   "source": [
    "## Create Encryption, Network and access policies for OpenSearch serverless \n",
    "def create_policies_in_oss(opensearchservice_client, role_arn):\n",
    "    # suffix = secrets.randbelow(800)\n",
    "    suffix = 5\n",
    "    vector_store_name = f'mm-image-collection-{suffix}'\n",
    "    encryption_policy_name = f\"mm-sample-sp-{suffix}\"\n",
    "    network_policy_name = f\"mm-sample-np-{suffix}\"\n",
    "    access_policy_name = f'mm-sample-ap-{suffix}'\n",
    "    identity = boto3.client('sts').get_caller_identity()['Arn']\n",
    "\n",
    "    try:\n",
    "        encryption_policy = opensearchservice_client.create_security_policy(\n",
    "            name=encryption_policy_name,\n",
    "            policy=json.dumps(\n",
    "                {\n",
    "                    'Rules': [{'Resource': ['collection/' + vector_store_name],\n",
    "                               'ResourceType': 'collection'}],\n",
    "                    'AWSOwnedKey': True\n",
    "                }),\n",
    "            type='encryption'\n",
    "        )\n",
    "    except Exception as ex:\n",
    "        print(ex)\n",
    "\n",
    "    try:\n",
    "        network_policy = opensearchservice_client.create_security_policy(\n",
    "            name=network_policy_name,\n",
    "            policy=json.dumps(\n",
    "                [\n",
    "                    {'Rules': [{'Resource': ['collection/' + vector_store_name],\n",
    "                                'ResourceType': 'collection'}],\n",
    "                     'AllowFromPublic': True}\n",
    "                ]),\n",
    "            type='network'\n",
    "        )\n",
    "    except Exception as ex:\n",
    "        print(ex)\n",
    "\n",
    "    try:\n",
    "        access_policy = opensearchservice_client.create_access_policy(\n",
    "            name=access_policy_name,\n",
    "            policy=json.dumps(\n",
    "                [\n",
    "                    {\n",
    "                        'Rules': [\n",
    "                            {\n",
    "                                'Resource': ['collection/' + vector_store_name],\n",
    "                                'Permission': [\n",
    "                                    'aoss:CreateCollectionItems',\n",
    "                                    'aoss:DeleteCollectionItems',\n",
    "                                    'aoss:UpdateCollectionItems',\n",
    "                                    'aoss:DescribeCollectionItems'],\n",
    "                                'ResourceType': 'collection'\n",
    "                            },\n",
    "                            {\n",
    "                                'Resource': ['index/' + vector_store_name + '/*'],\n",
    "                                'Permission': [\n",
    "                                    'aoss:CreateIndex',\n",
    "                                    'aoss:DeleteIndex',\n",
    "                                    'aoss:UpdateIndex',\n",
    "                                    'aoss:DescribeIndex',\n",
    "                                    'aoss:ReadDocument',\n",
    "                                    'aoss:WriteDocument'],\n",
    "                                'ResourceType': 'index'\n",
    "                            }],\n",
    "                        'Principal': [identity, role_arn],\n",
    "                        'Description': 'Easy data policy'}\n",
    "                ]),\n",
    "            type='data'\n",
    "        )\n",
    "    except Exception as ex:\n",
    "        print(ex)\n",
    "\n",
    "    return vector_store_name, encryption_policy_name, network_policy_name, access_policy_name"
   ]
  },
  {
   "cell_type": "code",
   "execution_count": null,
   "metadata": {},
   "outputs": [],
   "source": [
    "vector_store_name, \\\n",
    "encryption_policy, \\\n",
    "network_policy, \\\n",
    "access_policy = create_policies_in_oss(opensearchservice_client=opensearchservice_client, \n",
    "                                       role_arn=sagemaker_role_arn)\n",
    "\n",
    "print(f\"\"\"Vector Store Name: {vector_store_name}\\n \\\n",
    "        Encryption Policy: {encryption_policy}\\n \\\n",
    "        Network Policy   : {network_policy} \\n \\\n",
    "        Access Policy    : {access_policy}\"\"\")"
   ]
  },
  {
   "attachments": {},
   "cell_type": "markdown",
   "metadata": {},
   "source": [
    "## [1-2] OpenSearchServerless에 Collection 생성\n",
    " - 이 작업은 약 10분 소요됩니다."
   ]
  },
  {
   "cell_type": "code",
   "execution_count": null,
   "metadata": {},
   "outputs": [],
   "source": [
    "# create vector store collection\n",
    "try:\n",
    "    vs_collection = opensearchservice_client.create_collection(name=vector_store_name, type='VECTORSEARCH')\n",
    "    vs_collection_id = vs_collection['createCollectionDetail']['id']\n",
    "    print(f\"Created collection in OpenSearch -> {vs_collection}\\n\")\n",
    "except:\n",
    "    response = opensearchservice_client.list_collections()\n",
    "    for collection in response['collectionSummaries']:\n",
    "        if collection['name'] == vector_store_name:\n",
    "            print(f\"Collection '{vector_store_name}' already exists.\")\n",
    "            vs_collection = collection\n",
    "            vs_collection_id = collection.get('id', 'unknown')"
   ]
  },
  {
   "cell_type": "code",
   "execution_count": null,
   "metadata": {},
   "outputs": [],
   "source": [
    "%%time \n",
    "\n",
    "def wait_for_collection_creation(opensearchservice_client, collection_name, timeout=600, interval=60):\n",
    "    start_time = time.time()\n",
    "\n",
    "    while (time.time() - start_time) < timeout:\n",
    "        try:\n",
    "            # Fetch the list of collections\n",
    "            response = opensearchservice_client.list_collections()\n",
    "\n",
    "            # Check if the collection exists\n",
    "            for collection in response['collectionSummaries']:\n",
    "                if collection['name'] == collection_name:\n",
    "                    status = collection['status']\n",
    "                    if status == 'ACTIVE':\n",
    "                        print(f\"Collection '{collection_name}' is active.\")\n",
    "                        return True\n",
    "                    else:\n",
    "                        print(f\"Collection '{collection_name}' status: {status}. Waiting...\")\n",
    "\n",
    "        except Exception as e:\n",
    "            print(f\"Collection '{collection_name}' not found: {e}\")\n",
    "\n",
    "        time.sleep(interval)\n",
    "\n",
    "    print(f\"Timeout reached: Collection '{collection_name}' was not created in {timeout} seconds.\")\n",
    "    return False\n",
    "\n",
    "wait_for_collection_creation(opensearchservice_client, vector_store_name)"
   ]
  },
  {
   "cell_type": "code",
   "execution_count": null,
   "metadata": {},
   "outputs": [],
   "source": [
    "# 생성된 Collection의 host\n",
    "host = vs_collection_id + '.' + boto3_session.region_name + '.aoss.amazonaws.com'\n",
    "print(f\"OpenSearch Host: {host}\")"
   ]
  },
  {
   "attachments": {},
   "cell_type": "markdown",
   "metadata": {},
   "source": [
    "## [1-3] OpenSearch Index 생성\n",
    " - 이 셀이 여러 번 실행되면 index가 이미 존재한다는 오류가 발생합니다."
   ]
  },
  {
   "cell_type": "code",
   "execution_count": null,
   "metadata": {},
   "outputs": [],
   "source": [
    "service = 'aoss'\n",
    "credentials = boto3.Session().get_credentials()\n",
    "awsauth = AWSV4SignerAuth(credentials, boto3_session.region_name, service)\n",
    "\n",
    "# index 생성을 위한 스키마\n",
    "# 유사한 K개의 검색을 위해 KNN을 사용합니다\n",
    "# 이미지 dimension은 1024로 정의합니다\n",
    "index_name = f\"fireup-image-mm-index\"\n",
    "index_body = {\n",
    "   \"settings\": {\n",
    "      \"index.knn\": \"true\"\n",
    "   },\n",
    "   \"mappings\": {\n",
    "      \"properties\": {\n",
    "         \"image_vector\": {\n",
    "            \"type\": \"knn_vector\",\n",
    "            \"dimension\": 1024\n",
    "         },\n",
    "         \"metadata\": {\n",
    "             \"properties\": {\n",
    "               \"item_name\": {\"type\": \"text\"},\n",
    "               \"item_id\" : {\"type\": \"text\"},\n",
    "               \"img_path\": {\"type\": \"text\"},\n",
    "               \"description\": {\"type\": \"text\"},\n",
    "             }\n",
    "         }\n",
    "      }\n",
    "   }\n",
    "}\n",
    "\n",
    "oss_client = OpenSearch(\n",
    "    hosts=[{'host': host, 'port': 443}],\n",
    "    http_auth=awsauth,\n",
    "    use_ssl=True,\n",
    "    verify_certs=True,\n",
    "    connection_class=RequestsHttpConnection,\n",
    "    timeout=600\n",
    ")\n",
    "\n",
    "try:\n",
    "    response = oss_client.indices.create(index_name, body=index_body)\n",
    "    print(f\"Response received for the create index -> {response}\")\n",
    "except Exception as e:\n",
    "    print(f\"Encountered error while creating index={index_name}, exception={e}\")"
   ]
  },
  {
   "cell_type": "code",
   "execution_count": null,
   "metadata": {},
   "outputs": [],
   "source": [
    "%%time\n",
    "\n",
    "def wait_for_index_creation(oss_client, index_name, timeout=600, interval=10):\n",
    "    start_time = time.time()\n",
    "    \n",
    "    while (time.time() - start_time) < timeout:\n",
    "        try:\n",
    "            if oss_client.indices.exists(index=index_name):\n",
    "                print(f\"Index '{index_name}' has been created.\")\n",
    "                return True\n",
    "        except Exception as e:\n",
    "            print(e)\n",
    "\n",
    "        print(f\"Index '{index_name}' not created yet. Waiting for {interval} seconds...\")\n",
    "        time.sleep(interval)\n",
    "    \n",
    "    print(f\"Timeout reached: Index '{index_name}' was not created in {timeout} seconds.\")\n",
    "    return False\n",
    "\n",
    "# index가 정상적으로 생성됨을 확인하세요\n",
    "wait_for_index_creation(oss_client, index_name)"
   ]
  },
  {
   "cell_type": "markdown",
   "metadata": {},
   "source": [
    "---"
   ]
  },
  {
   "attachments": {},
   "cell_type": "markdown",
   "metadata": {},
   "source": [
    "# [2] 데이터셋 준비\n",
    "\n",
    "- [Amazon Berkeley Objects Dataset](https://amazon-berkeley-objects.s3.amazonaws.com/index.html)에서 이미지와 해당 메타데이터를 추출하여 데이터셋을 준비합니다.\n",
    "- `image_name`이 영문으로 된 데이터만 추출합니다. 이는 0번째 데이터셋 기준으로 1,655개 입니다.\n",
    "- 데이터를 로드하는 데 약 10초 소요됩니다."
   ]
  },
  {
   "cell_type": "markdown",
   "metadata": {},
   "source": [
    "## [2-1] 데이터셋 로드"
   ]
  },
  {
   "cell_type": "code",
   "execution_count": null,
   "metadata": {},
   "outputs": [],
   "source": [
    "%%time\n",
    "\n",
    "loader = DataLoader(index=0, language=LanguageTag.ENG)\n",
    "loader.dataset"
   ]
  },
  {
   "cell_type": "code",
   "execution_count": null,
   "metadata": {},
   "outputs": [],
   "source": [
    "# 데이터셋에 포함되어 있는 ID를 랜덤 pick\n",
    "item_id = loader.get_random_id()\n",
    "print(f\"Select a random item ID in dataset: {item_id}\")\n",
    "\n",
    "# Load된 아이템의 샘플은 다음과 같습니다.\n",
    "item, img = loader.get_item(item_id=item_id)\n",
    "base64img = encode_image_base64(img)\n",
    "\n",
    "display_image(base64img)\n",
    "print(json.dumps(item, indent=4, ensure_ascii=False))"
   ]
  },
  {
   "attachments": {},
   "cell_type": "markdown",
   "metadata": {},
   "source": [
    "## [2-2] Embedding 데이터 삽입\n",
    "\n",
    "- 이 작업은 약 10분 소요됩니다."
   ]
  },
  {
   "cell_type": "code",
   "execution_count": null,
   "metadata": {},
   "outputs": [],
   "source": [
    "def insert_document_in_aoss(index_name, item, image):\n",
    "    document = {\n",
    "        \"image_vector\": image,\n",
    "        \"metadata\": {\n",
    "            \"item_name\" : item[\"item_name\"],\n",
    "            \"item_id\" : item[\"item_id\"],\n",
    "            \"image_url\": item['img_path'],\n",
    "            \"description\":   item[\"bullet_point\"],\n",
    "        }\n",
    "    }\n",
    "    oss_client.index(\n",
    "        index = index_name,\n",
    "        body=document,\n",
    "    )"
   ]
  },
  {
   "cell_type": "code",
   "execution_count": null,
   "metadata": {},
   "outputs": [],
   "source": [
    "%%time\n",
    "\n",
    "all_id_list = loader.get_id_list()\n",
    "\n",
    "\n",
    "def insert_documents(item_id):\n",
    "    item, img = loader.get_item(item_id=item_id)\n",
    "\n",
    "    if item is None or img is None:\n",
    "        print(f\"Skipping item_id {item_id} due to missing data.\")\n",
    "        return\n",
    "        \n",
    "    # embedding image\n",
    "    multimodal_embeddings_img = bedrock_embedding.embedding_multimodal(\n",
    "        image=encode_image_base64(img)\n",
    "    )\n",
    "\n",
    "    insert_document_in_aoss(index_name, item, multimodal_embeddings_img)\n",
    "\n",
    "# 병렬 처리를 위한 ThreadPoolExecutor 사용\n",
    "with ThreadPoolExecutor(max_workers=5) as executor:\n",
    "    # executor.map(insert_documents, all_id_list)\n",
    "    futures = [executor.submit(insert_documents, id) for id in all_id_list]\n",
    "    for future in as_completed(futures):\n",
    "        try:\n",
    "            future.result()\n",
    "        except Exception as e:\n",
    "            print(f\"Error in future: {e}\")"
   ]
  },
  {
   "cell_type": "code",
   "execution_count": null,
   "metadata": {},
   "outputs": [],
   "source": [
    "def get_document_count(index_name):\n",
    "    try:\n",
    "        response = oss_client.count(index=index_name)\n",
    "        doc_count = response['count']\n",
    "        print(f\"Total number of documents in index '{index_name}': {doc_count}\")\n",
    "        return doc_count\n",
    "    except Exception as e:\n",
    "        print(f\"Error fetching document count: {e}\")\n",
    "        return None\n",
    "\n",
    "document_count = get_document_count(index_name)\n",
    "print(document_count)"
   ]
  },
  {
   "attachments": {},
   "cell_type": "markdown",
   "metadata": {},
   "source": [
    "### 사용하는 리소스에 대한 정보 저장\n",
    " - 이후 생성한 리소스를 정리하기 위해 리소스들의 정보를 저장합니다."
   ]
  },
  {
   "cell_type": "code",
   "execution_count": null,
   "metadata": {},
   "outputs": [],
   "source": [
    "data_to_save = {\n",
    "    \"opensearch_host\": host,\n",
    "    \"opensearch_index_name\": index_name,\n",
    "    \"vector_store_name\": vector_store_name,\n",
    "    \"encryption_policy\": encryption_policy,\n",
    "    \"network_policy\": network_policy,\n",
    "    \"access_policy\": access_policy\n",
    "}\n",
    "\n",
    "with open(\"oss_policies_info.json\", \"w\") as f:\n",
    "    json.dump(data_to_save, f)"
   ]
  }
 ],
 "metadata": {
  "kernelspec": {
   "display_name": "Python 3 (ipykernel)",
   "language": "python",
   "name": "python3"
  },
  "language_info": {
   "codemirror_mode": {
    "name": "ipython",
    "version": 3
   },
   "file_extension": ".py",
   "mimetype": "text/x-python",
   "name": "python",
   "nbconvert_exporter": "python",
   "pygments_lexer": "ipython3",
   "version": "3.9.12"
  },
  "vscode": {
   "interpreter": {
    "hash": "2c97182bcee1c5a46c75e12f527516848bb4d812af65bc6ddf5c082f318f5a83"
   }
  }
 },
 "nbformat": 4,
 "nbformat_minor": 4
}
