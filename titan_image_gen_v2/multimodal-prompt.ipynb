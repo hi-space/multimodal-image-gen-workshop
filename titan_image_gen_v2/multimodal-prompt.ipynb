{
 "cells": [
  {
   "attachments": {},
   "cell_type": "markdown",
   "metadata": {},
   "source": [
    "# Multimodal Prompt-to-Image Generation\n",
    "\n",
    "이미지 생성 모델을 사용하여 원하는 이미지를 생성하려면 프롬프트에서 이미지의 세부 사항을 정확하게 설명하는 것이 중요합니다. 그러나 사전 정보 없이 자세한 프롬프트를 만드는 것은 어려울 수 있습니다. 이를 돕기 위해 Multimodal LLM을 통해 사용자가 제공하는 스타일과 키워드를 기반으로 한 창의적인 이미지 프롬프트 아이디어를 제안합니다. 이를 통해 사용자는 보다 직관적으로 이미지 프롬프트를 생성할 수 있으며, 프롬프트 작성에 소요되는 노력을 줄일 수 있습니다.\n",
    "\n",
    "이미지 생성 모델은 [Amazon Titan Image Generator G1 v2](https://aws.amazon.com/ko/blogs/korea/amazon-titan-image-generator-v2-is-now-available-in-amazon-bedrock/)를 사용합니다."
   ]
  },
  {
   "cell_type": "code",
   "execution_count": null,
   "metadata": {},
   "outputs": [],
   "source": [
    "!pip install --quiet boto3 langchain"
   ]
  },
  {
   "cell_type": "code",
   "execution_count": null,
   "metadata": {},
   "outputs": [],
   "source": [
    "import os\n",
    "import sys\n",
    "\n",
    "ROOT_PATH = os.path.abspath(\"../\")\n",
    "sys.path.append(ROOT_PATH)"
   ]
  },
  {
   "cell_type": "code",
   "execution_count": null,
   "metadata": {},
   "outputs": [],
   "source": [
    "import re\n",
    "import boto3\n",
    "\n",
    "from common.aws.claude import BedrockClaude\n",
    "from common.aws.titan_image import BedrockTitanImage, ImageParams\n",
    "from common.utils.images import display_image, encode_image_base64_from_file\n",
    "\n",
    "from langchain.prompts import PromptTemplate\n",
    "from typing import List\n",
    "\n",
    "\n",
    "boto3_session = boto3.session.Session(region_name='us-west-2')\n",
    "print(f'The notebook will use aws services hosted in {boto3_session.region_name} region')\n",
    "\n",
    "image_params = ImageParams()\n",
    "titanImageGen = BedrockTitanImage(\n",
    "    region=boto3_session.region_name,\n",
    "    modelId='amazon.titan-image-generator-v2:0'\n",
    ")"
   ]
  },
  {
   "attachments": {},
   "cell_type": "markdown",
   "metadata": {},
   "source": [
    "## Basic Prompt\n",
    "\n",
    "기본 이미지 생성 프롬프트를 사용했을 때 입니다. Titan Image Generation 모델은 Input Text를 영어만 지원합니다."
   ]
  },
  {
   "cell_type": "code",
   "execution_count": null,
   "metadata": {},
   "outputs": [],
   "source": [
    "keyword=\"halloween\",\n",
    "style=\"realistic, fantastic\"\n",
    "\n",
    "body = image_params.text_to_image(text=f\"{keyword}, {style}\")\n",
    "img = titanImageGen.generate_image(body)\n",
    "display_image(img)"
   ]
  },
  {
   "attachments": {},
   "cell_type": "markdown",
   "metadata": {},
   "source": [
    "## LLM Prompt\n",
    "\n",
    "LLM으로부터 Image Generation을 위한 프롬프트를 생성한 결과입니다. `style`, `keyword` 값을 입력하면, 해당 내용을 바탕으로 3개의 이미지 프롬프트를 제안합니다.\n",
    "\n",
    "- `style`: 원하는 무드나 스타일\n",
    "- `keyword`: 생성하고자 하는 이미지의 키워드"
   ]
  },
  {
   "cell_type": "code",
   "execution_count": null,
   "metadata": {},
   "outputs": [],
   "source": [
    "PROMPT = \"\"\"You are an Assistant that creates prompts for generate background image by image generator model. The image that Human wants is written in <keyword>.\n",
    "Follow style guide in <style> and write three prompts for creating image keeping it to 300 characters or less. Use this fomat without further explanation: \n",
    "<prompt>image prompt</prompt>\n",
    "\n",
    "<keyword>\n",
    "{keyword}\n",
    "</keyword>\n",
    "\n",
    "<style>\n",
    "{style}\n",
    "</style>\n",
    "\"\"\"\n",
    "\n",
    "def extract_format(result_string):\n",
    "    pattern = r'<prompt>(.*?)</prompt>'\n",
    "    return re.findall(pattern, result_string)\n",
    "\n",
    "def get_prompt(keyword: str, style: str): \n",
    "    return PromptTemplate(\n",
    "                template=PROMPT,\n",
    "                input_variables=[\"keyword\", \"style\"]\n",
    "            ).format(keyword=keyword,\n",
    "                     style=style)\n",
    "\n",
    "def get_prompt_by_llm(prompt: str) -> List[str]:\n",
    "    claude = BedrockClaude()\n",
    "    res = claude.invoke_llm_response(prompt)\n",
    "    return extract_format(res)"
   ]
  },
  {
   "cell_type": "code",
   "execution_count": null,
   "metadata": {},
   "outputs": [],
   "source": [
    "prompt = get_prompt(\n",
    "    keyword=keyword,\n",
    "    style=style\n",
    ")\n",
    "\n",
    "image_prompts = get_prompt_by_llm(prompt)\n",
    "print(image_prompts)"
   ]
  },
  {
   "cell_type": "code",
   "execution_count": null,
   "metadata": {},
   "outputs": [],
   "source": [
    "for prompt in image_prompts:\n",
    "    print(f\"[PROMPT] {prompt}\")\n",
    "    \n",
    "    body = image_params.text_to_image(text=prompt)\n",
    "    img = titanImageGen.generate_image(body)\n",
    "    display_image(img)"
   ]
  },
  {
   "attachments": {},
   "cell_type": "markdown",
   "metadata": {},
   "source": [
    "## Multimodal LLM Prompt\n",
    "\n",
    "Titan Image Generator 는 레퍼런스 이미지를 참조하여 새로운 이미지를 생성하는 몇 가지 옵션을 제공합니다.\n",
    "\n",
    "- **Image Conditioning**: 텍스트 프롬프트를 따르면서 참조 이미지의 레이아웃 및 구성과 일치하는 이미지를 생성\n",
    "  - 단순히 기존 이미지를 재구성하는 데 그칠 수 있어, 창의적인 자유도가 제한\n",
    "- **Color Guided Generation**: `referenceImage`를 통해 참조 색상들을 받아와 이미지의 색상 톤을 반영\n",
    "  - 일부 색상 톤을 반영하지만 이미지의 분위기나 재질 등을 반영하기 어려움\n",
    "- **Image Variation**: 소스 이미지는 보존하고, 스타일과 배경을 변형한 이미지 생성\n",
    "  - 변형의 범위가 제한적이고 원본 이미지에 제약이 있음\n",
    "\n",
    "위 방법들은 레퍼런스 이미지의 특정 속성(색상, 레이아웃, 소스 이미지 등)을 반영하는 데에는 유용하지만, 변형의 범위가 제한적이다 보니 창의적이고 복합적인 특징을 반영한, 완전히 새로운 이미지를 생성하는 데에 한계가 있습니다. Multimodal LLM을 통해 레퍼런스 이미지를 이해하고, 이를 바탕으로 타겟하는 이미지를 생성하도록 프롬프트를 생성하면 더 자유롭고 창의적인 이미지 프롬프트 생성이 가능합니다."
   ]
  },
  {
   "cell_type": "code",
   "execution_count": null,
   "metadata": {},
   "outputs": [],
   "source": [
    "PROMPT = \"\"\"You are an Assistant that creates prompts for generate background image by image generator model. The image that Human wants is written in <keyword>.\n",
    "            Write a images three creation prompts keeping it to 300 characters or less to maintain the style of a given image. Use this fomat without further explanation:\n",
    "            <prompt>image prompt</prompt>\n",
    "\n",
    "            <keyword>\n",
    "            {keyword}\n",
    "            </keyword>\n",
    "            \"\"\"\n",
    "\n",
    "\n",
    "def get_mm_prompt(keyword: str):\n",
    "    return PromptTemplate(\n",
    "                template=PROMPT,\n",
    "                input_variables=[\"keyword\"]\n",
    "            ).format(keyword=keyword)\n",
    "\n",
    "def get_prompt_by_mm_llm(prompt: str, image: str) -> List[str]:\n",
    "    claude = BedrockClaude()\n",
    "    res = claude.invoke_llm_response(text=prompt, image=image)\n",
    "    return extract_format(res)"
   ]
  },
  {
   "cell_type": "code",
   "execution_count": null,
   "metadata": {},
   "outputs": [],
   "source": [
    "input_image = encode_image_base64_from_file(f\"./sample/house.jpg\", format=\"JPEG\")\n",
    "display_image(input_image)\n",
    "\n",
    "prompt = get_mm_prompt(keyword=keyword)\n",
    "image_prompts = get_prompt_by_mm_llm(prompt=prompt, image=input_image)\n",
    "print(image_prompts)\n",
    "\n",
    "for prompt in image_prompts:\n",
    "    print(prompt)\n",
    "    body = image_params.text_to_image(text=prompt)\n",
    "    img = titanImageGen.generate_image(body)\n",
    "    display_image(img)"
   ]
  },
  {
   "cell_type": "code",
   "execution_count": null,
   "metadata": {},
   "outputs": [],
   "source": []
  }
 ],
 "metadata": {
  "kernelspec": {
   "display_name": "base",
   "language": "python",
   "name": "python3"
  },
  "language_info": {
   "codemirror_mode": {
    "name": "ipython",
    "version": 3
   },
   "file_extension": ".py",
   "mimetype": "text/x-python",
   "name": "python",
   "nbconvert_exporter": "python",
   "pygments_lexer": "ipython3",
   "version": "3.9.12"
  },
  "orig_nbformat": 4,
  "vscode": {
   "interpreter": {
    "hash": "2c97182bcee1c5a46c75e12f527516848bb4d812af65bc6ddf5c082f318f5a83"
   }
  }
 },
 "nbformat": 4,
 "nbformat_minor": 2
}
