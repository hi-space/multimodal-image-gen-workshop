{
 "cells": [
  {
   "cell_type": "code",
   "execution_count": null,
   "id": "834e639d",
   "metadata": {},
   "outputs": [],
   "source": [
    "import os\n",
    "import sys\n",
    "\n",
    "ROOT_PATH = os.path.abspath(\"../\")\n",
    "sys.path.append(ROOT_PATH)"
   ]
  },
  {
   "cell_type": "code",
   "execution_count": null,
   "id": "a3328a4e-f3f3-4a38-9eec-9383b8890ebc",
   "metadata": {},
   "outputs": [],
   "source": [
    "import os\n",
    "import json\n",
    "import urllib\n",
    "import time\n",
    "import base64\n",
    "import ffmpeg\n",
    "import sagemaker\n",
    "import boto3\n",
    "import secrets\n",
    "from PIL import Image\n",
    "from diffusers.utils import export_to_video, make_image_grid\n",
    "from botocore.exceptions import ClientError\n",
    "from sagemaker.huggingface.model import HuggingFaceModel\n",
    "from sagemaker.async_inference.async_inference_config import AsyncInferenceConfig\n",
    "from sagemaker.s3 import s3_path_join\n",
    "\n",
    "from IPython.display import Video\n",
    "from common.utils.time import get_current_time, get_seed\n",
    "from common.utils.images import encode_image_base64_from_file"
   ]
  },
  {
   "cell_type": "code",
   "execution_count": null,
   "id": "d091f7a5-a217-43dc-8782-6c00b07517a8",
   "metadata": {},
   "outputs": [],
   "source": [
    "sm_session_bucket = None\n",
    "\n",
    "sm_session = sagemaker.Session()\n",
    "sm_runtime_client = boto3.client(\"sagemaker-runtime\")\n",
    "\n",
    "if sm_session_bucket is None and sm_session is not None:\n",
    "    # set to default bucket if a bucket name is not given\n",
    "    sm_session_bucket = sm_session.default_bucket()\n",
    "try:\n",
    "    sm_role = sagemaker.get_execution_role()\n",
    "except ValueError:\n",
    "    iam_client = boto3.client(\"iam\")\n",
    "    sm_role = iam_client.get_role(RoleName=\"sagemaker_execution_role\")[\"Role\"][\"Arn\"]\n",
    "\n",
    "print(f\"sagemaker role arn: {sm_role}\")\n",
    "print(f\"sagemaker bucket: {sm_session.default_bucket()}\")\n",
    "print(f\"sagemaker session region: {sm_session.boto_region_name}\")"
   ]
  },
  {
   "cell_type": "code",
   "execution_count": null,
   "id": "2ff6c857",
   "metadata": {},
   "outputs": [],
   "source": [
    "seed = get_seed()\n",
    "\n",
    "FRAME_OUT_PATH = \"frames_out\"\n",
    "VIDEO_OUT_PATH = \"video_out\"\n",
    "\n",
    "# Create directories to store ouput\n",
    "os.makedirs(FRAME_OUT_PATH,exist_ok=True)\n",
    "os.makedirs(VIDEO_OUT_PATH,exist_ok=True)\n",
    "\n",
    "# Load Endpoint Name\n",
    "# with open(\"endpoint.txt\", \"r\") as f:\n",
    "#     saved_data = json.load(f)\n",
    "\n",
    "# endpoint_name = saved_data[\"endpoint_name\"]\n",
    "endpoint_name = \"<YOU_NEED_TO_FILL_HERE>\"\n",
    "\n",
    "print(f\"Endpoint: {endpoint_name}\")\n",
    "print(f\"Seed: {seed}\")"
   ]
  },
  {
   "attachments": {},
   "cell_type": "markdown",
   "id": "9f001dcc",
   "metadata": {},
   "source": [
    "### 4.2 Set Movie Name and Inference Parameters"
   ]
  },
  {
   "cell_type": "code",
   "execution_count": null,
   "id": "0bd81909",
   "metadata": {},
   "outputs": [],
   "source": [
    "input_image_path = \"sample/champagne.jpg\"\n",
    "video_output_name = \"champagne\"\n",
    "\n",
    "img = Image.open(\"data/gen_llm_1.png\")\n",
    "width, height = img.size\n",
    "\n",
    "print(width, height)\n",
    "img.show()"
   ]
  },
  {
   "cell_type": "code",
   "execution_count": null,
   "id": "59dcbbc0-7ac4-4a41-aa6f-0ca712f61d6c",
   "metadata": {},
   "outputs": [],
   "source": [
    "fps = 6\n",
    "\n",
    "data = {\n",
    "    \"image\": encode_image_base64_from_file(input_image_path),\n",
    "    \"width\": width,\n",
    "    \"height\": height,\n",
    "    \"num_frames\": 25,\n",
    "    \"num_inference_steps\": 25,\n",
    "    \"min_guidance_scale\": 1.0,\n",
    "    \"max_guidance_scale\": 3.0,\n",
    "    \"fps\": fps, # [5, 30]\n",
    "    \"motion_bucket_id\": 127, # < 255\n",
    "    \"noise_aug_strength\": 0.02,\n",
    "    \"decode_chunk_size\": 8,\n",
    "    \"seed\": seed,\n",
    "}"
   ]
  },
  {
   "cell_type": "markdown",
   "id": "1bb617a0-2de8-416b-917c-44964d1d21ff",
   "metadata": {},
   "source": [
    "## 5: Upload Request Payload and Invoke Endpoint\n"
   ]
  },
  {
   "attachments": {},
   "cell_type": "markdown",
   "id": "9df94df8",
   "metadata": {},
   "source": [
    "### 5.1: Upload Request Payload\n",
    "\n",
    "- Amazon S3에 JSON request payload 업로드 후, 해당 payload로 inference 수행"
   ]
  },
  {
   "cell_type": "code",
   "execution_count": null,
   "id": "fd3d92ba-8454-4b9c-8a2f-d8945dcc64b7",
   "metadata": {},
   "outputs": [],
   "source": [
    "def upload_data_to_s3(data):\n",
    "    timestamp = get_current_time(format=\"%Y%m%d_%H%M%S\")\n",
    "    tmp_filename = f\"payload_{timestamp}.json\"\n",
    "    \n",
    "    with open(tmp_filename, \"w\", encoding=\"utf-8\") as f:\n",
    "        json.dump(data, f, ensure_ascii=False, indent=4)\n",
    "\n",
    "    return sm_session.upload_data(\n",
    "        tmp_filename,\n",
    "        bucket=sm_session.default_bucket(),\n",
    "        key_prefix=\"async_inference/input\",\n",
    "        extra_args={\"ContentType\": \"application/json\"},\n",
    "    )"
   ]
  },
  {
   "cell_type": "code",
   "execution_count": null,
   "id": "1e49a137-605c-4812-8d7d-8bca6bdcb395",
   "metadata": {},
   "outputs": [],
   "source": [
    "input_s3_location = upload_data_to_s3(data)\n",
    "print(f\"Request payload location: {input_s3_location}\")"
   ]
  },
  {
   "attachments": {},
   "cell_type": "markdown",
   "id": "0b6b1643",
   "metadata": {},
   "source": [
    "### 5.2: Invoke the Endpoint for Inference\n",
    "\n",
    "- `num_frames`가 25인 경우, 약 2분 정도 소요됩니다.\n",
    "- 모델 호출에 대한 응답을 받기 위해 Amazon S3 버킷을 폴링합니다."
   ]
  },
  {
   "cell_type": "code",
   "execution_count": null,
   "id": "3541edb2",
   "metadata": {},
   "outputs": [],
   "source": [
    "def get_output(output_location):\n",
    "    output_url = urllib.parse.urlparse(output_location)\n",
    "    bucket = output_url.netloc\n",
    "    key = output_url.path[1:]\n",
    "    while True:\n",
    "        try:\n",
    "            return sm_session.read_s3_file(bucket=bucket, key_prefix=key)\n",
    "        except ClientError as e:\n",
    "            if e.response[\"Error\"][\"Code\"] == \"NoSuchKey\":\n",
    "                print(\"Waiting for model output...\")\n",
    "                time.sleep(15)\n",
    "                continue\n",
    "            raise\n",
    "\n",
    "\n",
    "def load_video_frames(video_frames):\n",
    "    loaded_video_frames = []\n",
    "\n",
    "    for idx, video_frame in enumerate(video_frames):\n",
    "        frame = bytes(video_frame, \"raw_unicode_escape\")\n",
    "        frame_name = (\n",
    "            f\"{FRAME_OUT_PATH}/frame_0{idx+1}.jpg\"\n",
    "            if idx < 9\n",
    "            else f\"{FRAME_OUT_PATH}/frame_{idx+1}.jpg\"\n",
    "        )\n",
    "        \n",
    "        with open(frame_name, \"wb\") as fh:\n",
    "            fh.write(base64.decodebytes(frame))\n",
    "\n",
    "        image = Image.open(frame_name, mode=\"r\")\n",
    "        loaded_video_frames.append(image)\n",
    "\n",
    "    return loaded_video_frames"
   ]
  },
  {
   "cell_type": "code",
   "execution_count": null,
   "id": "952ca07c-3edd-46dc-bfdb-8f8abb77c856",
   "metadata": {},
   "outputs": [],
   "source": [
    "response = sm_runtime_client.invoke_endpoint_async(\n",
    "    EndpointName=endpoint_name,\n",
    "    InputLocation=input_s3_location,\n",
    "    InvocationTimeoutSeconds=3600,\n",
    ")\n",
    "\n",
    "print(f\"Model response payload location: {response['OutputLocation']}\")"
   ]
  },
  {
   "cell_type": "markdown",
   "id": "d767ffce-faae-465b-a32a-2b913974b284",
   "metadata": {},
   "source": [
    "## 6: Frames to MP4 Video"
   ]
  },
  {
   "attachments": {},
   "cell_type": "markdown",
   "id": "84703ecb",
   "metadata": {},
   "source": [
    "### 6.1: Frames to MP4 Video\n",
    "\n",
    "- 각 프레임 binary 객체를 JPEG로 변환한 다음, Hugging Face의 `diffusers.utils.export_to_video` 메서드를 사용하여 MP4로 결합합니다."
   ]
  },
  {
   "cell_type": "code",
   "execution_count": null,
   "id": "61a2f5c0",
   "metadata": {},
   "outputs": [],
   "source": [
    "output = get_output(response[\"OutputLocation\"])\n",
    "data = json.loads(output)\n",
    "loaded_video_frames = load_video_frames(data[\"frames\"])\n",
    "print(f\"Load video frames: {len(loaded_video_frames)}\")\n",
    "\n",
    "video_output_path = f\"{VIDEO_OUT_PATH}/{video_output_name}.mp4\"\n",
    "export_to_video(loaded_video_frames, video_output_path, fps=fps)\n",
    "print(f\"Video created: {video_output_path}\")"
   ]
  },
  {
   "attachments": {},
   "cell_type": "markdown",
   "id": "11dd820f-e4ab-49de-be64-b3b33c658646",
   "metadata": {},
   "source": [
    "### 6.2: Display Frames as Grid\n",
    "\n",
    "- 25개의 프레임을 5x5 grid로 표시합니다"
   ]
  },
  {
   "cell_type": "code",
   "execution_count": null,
   "id": "4b1eda93-f62c-4962-81c0-24895a3c8b0f",
   "metadata": {},
   "outputs": [],
   "source": [
    "image = make_image_grid(loaded_video_frames, 5, 5)\n",
    "(width, height) = (image.width // 2, image.height // 2)\n",
    "im_resized = image.resize((width, height))\n",
    "display(im_resized)"
   ]
  },
  {
   "attachments": {},
   "cell_type": "markdown",
   "id": "de629f04-0580-4cb9-8eb6-1cf4147d90a9",
   "metadata": {},
   "source": [
    "### 6.3: Display Video\n",
    "\n",
    "- 생성한 비디오 파일을 Notebook에서 재생합니다\n"
   ]
  },
  {
   "cell_type": "code",
   "execution_count": null,
   "id": "9f1f5536",
   "metadata": {},
   "outputs": [],
   "source": [
    "def display_video(video_path, frame_width):\n",
    "    return Video(\n",
    "        url=video_path,\n",
    "        width=frame_width,\n",
    "        html_attributes=\"controls muted autoplay loop\"\n",
    "    )"
   ]
  },
  {
   "cell_type": "code",
   "execution_count": null,
   "id": "21a45087",
   "metadata": {},
   "outputs": [],
   "source": [
    "display_video(f\"{video_output_path}\", width // 4)"
   ]
  },
  {
   "attachments": {},
   "cell_type": "markdown",
   "id": "faa0a6c2",
   "metadata": {},
   "source": [
    "## 7: Generating of Multiple Video Variations\n",
    "\n",
    "- 하나의 이미지로 여러 video variation을 생성합니다\n"
   ]
  },
  {
   "cell_type": "code",
   "execution_count": null,
   "id": "2632215a",
   "metadata": {},
   "outputs": [],
   "source": [
    "input_image_path = \"sample/beach_bike.jpg\"\n",
    "video_output_name = \"beach_bike\"\n",
    "\n",
    "width = 1024\n",
    "height = 576\n",
    "fps = 6\n",
    "\n",
    "for i in range(3):\n",
    "    seed = get_seed()\n",
    "    data = {\n",
    "        \"image\": encode_image_base64_from_file(input_image_path),\n",
    "        \"width\": width,\n",
    "        \"height\": height,\n",
    "        \"num_frames\": 25,\n",
    "        \"num_inference_steps\": 25,\n",
    "        \"min_guidance_scale\": 1.0,\n",
    "        \"max_guidance_scale\": 3.0,\n",
    "        \"fps\": fps,\n",
    "        \"motion_bucket_id\": 127,\n",
    "        \"noise_aug_strength\": 0.02,\n",
    "        \"decode_chunk_size\": 8,\n",
    "        \"seed\": seed,\n",
    "    }\n",
    "\n",
    "    input_s3_location = upload_data_to_s3(data)\n",
    "    response = sm_runtime_client.invoke_endpoint_async(\n",
    "        EndpointName=endpoint_name,\n",
    "        InputLocation=input_s3_location,\n",
    "        InvocationTimeoutSeconds=3600,\n",
    "    )\n",
    "    \n",
    "    output = get_output(response[\"OutputLocation\"])\n",
    "    data = json.loads(output)\n",
    "    loaded_video_frames = load_video_frames(data[\"frames\"])\n",
    "\n",
    "    video_output_path = f\"{VIDEO_OUT_PATH}/{video_output_name}_{i}.mp4\"\n",
    "    export_to_video(loaded_video_frames, video_output_path, fps=fps)\n",
    "    print(f\"Video created: {video_output_path}\")"
   ]
  }
 ],
 "metadata": {
  "kernelspec": {
   "display_name": "base",
   "language": "python",
   "name": "python3"
  },
  "language_info": {
   "codemirror_mode": {
    "name": "ipython",
    "version": 3
   },
   "file_extension": ".py",
   "mimetype": "text/x-python",
   "name": "python",
   "nbconvert_exporter": "python",
   "pygments_lexer": "ipython3",
   "version": "3.9.12"
  },
  "vscode": {
   "interpreter": {
    "hash": "2c97182bcee1c5a46c75e12f527516848bb4d812af65bc6ddf5c082f318f5a83"
   }
  }
 },
 "nbformat": 4,
 "nbformat_minor": 5
}
