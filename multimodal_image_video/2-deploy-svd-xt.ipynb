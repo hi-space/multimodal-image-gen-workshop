{
 "cells": [
  {
   "attachments": {},
   "cell_type": "markdown",
   "id": "be6d1db7-70ed-4652-9e4d-1d9124966c67",
   "metadata": {},
   "source": [
    "# Stable Video Diffusion XT 1.1 on Amazon SageMaker\n",
    "\n",
    "> [Original Code](https://github.com/garystafford/svdxt-sagemaker-huggingface)\n",
    "\n",
    "Stability AI의 [Stable Video Diffusion XT(SVT-XT) 1.1](https://medium.com/r/?url=https%3A%2F%2Fstability.ai%2Fstable-video) 기반 모델은 정지 이미지를 conditioning frame으로 사용하여 4초 분량의 짧은 비디오를 생성하는 diffusion 모델입니다.\n",
    "\n",
    "노트북은 Amazon SageMaker의 SVT-XT 기반 모델로 지원되는 [Asynchronous Inference Endpoint](https://docs.aws.amazon.com/sagemaker/latest/dg/async-inference.html)를 구성, 생성 및 호출하는 과정을 포함합니다.\n",
    "\n",
    "![Architecture](assets/architecture.png)"
   ]
  },
  {
   "cell_type": "markdown",
   "id": "6477bffd-639d-4480-9f18-ba4bb3a1993a",
   "metadata": {},
   "source": [
    "## 1: Install Required Packages\n"
   ]
  },
  {
   "cell_type": "code",
   "execution_count": null,
   "id": "614d104c",
   "metadata": {},
   "outputs": [],
   "source": [
    "%%sh\n",
    "\n",
    "sudo apt-get update -qq -y && sudo apt-get upgrade -qq -y\n",
    "sudo apt-get install git libgl1 ffmpeg git-lfs wget -y"
   ]
  },
  {
   "cell_type": "code",
   "execution_count": null,
   "id": "40524589-c9dd-4d48-bf12-c7d2d8e87c83",
   "metadata": {},
   "outputs": [],
   "source": [
    "%pip install sagemaker boto3 botocore ffmpeg-python ipython diffusers pywget imageio-ffmpeg -Uq"
   ]
  },
  {
   "cell_type": "code",
   "execution_count": null,
   "id": "8b4aba5e-1d59-446c-a121-19715ae2f5e2",
   "metadata": {},
   "outputs": [],
   "source": [
    "# restart kernel 1x when installing new packages\n",
    "\n",
    "import os\n",
    "\n",
    "os._exit(00)"
   ]
  },
  {
   "attachments": {},
   "cell_type": "markdown",
   "id": "2267437f-9900-42a6-b086-8c00611f10c7",
   "metadata": {},
   "source": [
    "## 2: Prepare the SVD-XT Model for Inference\n",
    "\n",
    "모델을 준비하기 위해 아래와 같은 단계를 수행합니다.\n",
    "\n",
    "1. Hugging Face에서 모델 아티팩트 다운로드\n",
    "2. 사용자 정의 infernece 스크립트 추가\n",
    "3. 모델 아티팩트 압축\n",
    "4. 모델 압축파일을 S3에 업로드"
   ]
  },
  {
   "cell_type": "markdown",
   "id": "0e4b52d1",
   "metadata": {},
   "source": [
    "### 2.1: Import Packages and Set SageMaker Variables"
   ]
  },
  {
   "cell_type": "code",
   "execution_count": 1,
   "id": "a3328a4e-f3f3-4a38-9eec-9383b8890ebc",
   "metadata": {},
   "outputs": [
    {
     "name": "stderr",
     "output_type": "stream",
     "text": [
      "/home/yoo/anaconda3/lib/python3.9/site-packages/pandas/core/arrays/masked.py:60: UserWarning: Pandas requires version '1.3.6' or newer of 'bottleneck' (version '1.3.4' currently installed).\n",
      "  from pandas.core import (\n"
     ]
    },
    {
     "name": "stdout",
     "output_type": "stream",
     "text": [
      "sagemaker.config INFO - Not applying SDK defaults from location: /etc/xdg/xdg-ubuntu/sagemaker/config.yaml\n",
      "sagemaker.config INFO - Not applying SDK defaults from location: /home/yoo/.config/sagemaker/config.yaml\n"
     ]
    }
   ],
   "source": [
    "import os\n",
    "import json\n",
    "import sagemaker\n",
    "import boto3\n",
    "from botocore.exceptions import ClientError\n",
    "from sagemaker.huggingface.model import HuggingFaceModel\n",
    "from sagemaker.async_inference.async_inference_config import AsyncInferenceConfig\n",
    "from sagemaker.s3 import s3_path_join"
   ]
  },
  {
   "cell_type": "code",
   "execution_count": null,
   "id": "d091f7a5-a217-43dc-8782-6c00b07517a8",
   "metadata": {},
   "outputs": [],
   "source": [
    "sm_session_bucket = None\n",
    "\n",
    "sm_session = sagemaker.Session()\n",
    "\n",
    "if sm_session_bucket is None and sm_session is not None:\n",
    "    # set to default bucket if a bucket name is not given\n",
    "    sm_session_bucket = sm_session.default_bucket()\n",
    "try:\n",
    "    sm_role = sagemaker.get_execution_role()\n",
    "except ValueError:\n",
    "    iam_client = boto3.client(\"iam\")\n",
    "    sm_role = iam_client.get_role(RoleName=\"sagemaker_execution_role\")[\"Role\"][\"Arn\"]"
   ]
  },
  {
   "cell_type": "code",
   "execution_count": null,
   "id": "aa2a2e63",
   "metadata": {},
   "outputs": [],
   "source": [
    "# name of packaged model archive file\n",
    "MODEL_ARCHIVE = \"model_svdxt.tar.gz\""
   ]
  },
  {
   "cell_type": "code",
   "execution_count": null,
   "id": "8a604a64-bab3-4efa-a442-4e9e16a84b73",
   "metadata": {},
   "outputs": [],
   "source": [
    "print(f\"sagemaker role arn: {sm_role}\")\n",
    "print(f\"sagemaker bucket: {sm_session.default_bucket()}\")\n",
    "print(f\"sagemaker session region: {sm_session.boto_region_name}\")"
   ]
  },
  {
   "attachments": {},
   "cell_type": "markdown",
   "id": "5a53689c-07b2-483d-b768-0d943efc6daa",
   "metadata": {},
   "source": [
    "### 2.2: Download the Model Artifacts from Hugging Face\n",
    "\n",
    "- Hugging Face에서 모델 아티팩트를 다운로드하는 데 6-7분이 걸립니다. \n",
    "- `/home/sagemaker-user`에 마운트된 `/dev/nvme1n1` 볼륨을 확인하여 충분한 공간이 있는지 확인합니다. 약 34GB의 공간이 필요합니다."
   ]
  },
  {
   "cell_type": "code",
   "execution_count": null,
   "id": "68fe03ed",
   "metadata": {},
   "outputs": [],
   "source": [
    "%%sh\n",
    "\n",
    "df -h /home/sagemaker-user"
   ]
  },
  {
   "cell_type": "code",
   "execution_count": null,
   "id": "69543da6-b78f-4064-bd10-a340189a8dd3",
   "metadata": {},
   "outputs": [],
   "source": [
    "%%sh\n",
    "\n",
    "git lfs install"
   ]
  },
  {
   "cell_type": "code",
   "execution_count": null,
   "id": "a6931008-d698-4536-9ad1-94286ff8bf50",
   "metadata": {},
   "outputs": [],
   "source": [
    "%%time\n",
    "%%sh\n",
    "\n",
    "rm -rf stable-video-diffusion-img2vid-xt\n",
    "git clone --depth 1 https://huggingface.co/stabilityai/stable-video-diffusion-img2vid-xt"
   ]
  },
  {
   "cell_type": "markdown",
   "id": "5e1f05b2",
   "metadata": {},
   "source": [
    "### 2.3: Add Custom Inference Script"
   ]
  },
  {
   "cell_type": "code",
   "execution_count": null,
   "id": "4bd55c45-194b-4d6c-bc1a-34210c50d423",
   "metadata": {},
   "outputs": [],
   "source": [
    "import shutil\n",
    "\n",
    "destination = \"stable-video-diffusion-img2vid-xt\"\n",
    "\n",
    "shutil.copy(\"code/inference.py\", destination)\n",
    "shutil.copy(\"code/requirements.txt\", destination)"
   ]
  },
  {
   "attachments": {},
   "cell_type": "markdown",
   "id": "19f456f2-5d0f-48db-b8e1-68173c1f510f",
   "metadata": {},
   "source": [
    "### 2.4: TAR GZIP Model Artifacts\n",
    "\n",
    "- 최종 모델 아카이브 파일은 14-15GB가 되며, 패키징 및 압축하는 데 35-40분이 걸릴 수 있습니다.\n",
    "- 터미널에서 15초마다 모델 아카이브 파일 file의 크기를 지속적으로 폴링할 수 있습니다.\n",
    "    ```sh\n",
    "    while sleep 15; do ls -la model_v2.tar.gz; done\n",
    "    ```\n"
   ]
  },
  {
   "cell_type": "code",
   "execution_count": null,
   "id": "47e7bcc3-b50c-4a27-aa22-37461ab5f668",
   "metadata": {
    "scrolled": true
   },
   "outputs": [],
   "source": [
    "%%time\n",
    "\n",
    "import os\n",
    "import tarfile\n",
    "\n",
    "TAR_MODE = \"w:gz\"\n",
    "\n",
    "\n",
    "def create_tar_archive(folder_path, output_tar_file):\n",
    "    \"\"\"\n",
    "    Create a tar archive from a folder, excluding hidden files.\n",
    "\n",
    "    :param folder_path: The path to the folder to be archived.\n",
    "    :param output_tar_file: The path to the output tar file.\n",
    "    \"\"\"\n",
    "    with tarfile.open(output_tar_file, TAR_MODE) as tar:\n",
    "        for root, dirs, files in os.walk(folder_path):\n",
    "            files = [f for f in files if not f[0] == \".\"]\n",
    "            dirs[:] = [d for d in dirs if not d[0] == \".\"]\n",
    "            for file in files:\n",
    "                file_path = os.path.join(root, file)\n",
    "                tar.add(file_path, arcname=os.path.relpath(file_path, folder_path))\n",
    "                print(f\"Added {file_path} to the archive.\")\n",
    "\n",
    "\n",
    "create_tar_archive(destination, MODEL_ARCHIVE)"
   ]
  },
  {
   "attachments": {},
   "cell_type": "markdown",
   "id": "dccb67e8",
   "metadata": {},
   "source": [
    "### 2.2-2.4: Alternate Method if Model Already Exists in S3\n",
    "\n",
    "- 모델 아카이브 파일이 S3에 이미 있는 경우 위의 1-3단계를 건너뜁니다. Amazon S3 사전 서명 URL을 만들고 URL을 사용하여 모델 패키지를 다운로드합니다.\n",
    "- 모델 아티팩트와 TAR GZIP을 다운로드하는 단계를 대체합니다.\n",
    "- 이 단계는 동일 AWS 리전에서 4-7분이 걸립니다.\n"
   ]
  },
  {
   "cell_type": "code",
   "execution_count": null,
   "id": "eafaece3",
   "metadata": {},
   "outputs": [],
   "source": [
    "# %%time\n",
    "\n",
    "# import os\n",
    "# from pywget import wget\n",
    "\n",
    "# presigned_s3_url = \"<YOUR_PRESIGNED_URL_GOES_HERE>\"\n",
    "\n",
    "# wget.download(presigned_s3_url, MODEL_ARCHIVE)"
   ]
  },
  {
   "attachments": {},
   "cell_type": "markdown",
   "id": "b6dfccbd-c114-48c3-9e48-ad40a49ca715",
   "metadata": {},
   "source": [
    "### 2.5: Copy Model Artifacts to S3\n",
    "\n",
    "- 동일 AWS 리전에서 모델 아카이브 파일을 Amazon S3에 복사하는 데 2~3분이 걸리며, 이 파일의 크기는 약 14GB입니다."
   ]
  },
  {
   "cell_type": "code",
   "execution_count": null,
   "id": "b9c4d5ea-10c3-4a11-80fc-cab527c4e623",
   "metadata": {},
   "outputs": [],
   "source": [
    "%%time\n",
    "\n",
    "s3_client = boto3.client(\"s3\")\n",
    "\n",
    "response = s3_client.upload_file(\n",
    "    MODEL_ARCHIVE,\n",
    "    sm_session_bucket,\n",
    "    f\"async_inference/model/{MODEL_ARCHIVE}\",\n",
    ")"
   ]
  },
  {
   "cell_type": "markdown",
   "id": "301b0cf9-f391-42c4-806f-46fc7b3da1ce",
   "metadata": {},
   "source": [
    "## 3: Deploy Model to Amazon SageMaker Endpoint\n"
   ]
  },
  {
   "attachments": {},
   "cell_type": "markdown",
   "id": "368c2f73",
   "metadata": {},
   "source": [
    "### 3.1: Deploy Model to Amazon SageMaker Endpoint\n",
    "\n",
    "- Amazon SageMaker Asynchronous Inference Endpoint를 배포하는 데는 5~7분이 걸립니다."
   ]
  },
  {
   "cell_type": "code",
   "execution_count": null,
   "id": "578ea117-2bd4-442b-af0d-2789b980412c",
   "metadata": {},
   "outputs": [],
   "source": [
    "env = {\n",
    "    \"SAGEMAKER_MODEL_SERVER_TIMEOUT\": \"3600\",\n",
    "    \"TS_MAX_RESPONSE_SIZE\": \"1000000000\",\n",
    "    \"TS_MAX_REQUEST_SIZE\": \"1000000000\",\n",
    "    \"MMS_MAX_RESPONSE_SIZE\": \"1000000000\",\n",
    "    \"MMS_MAX_REQUEST_SIZE\": \"1000000000\",\n",
    "}\n",
    "\n",
    "huggingface_model = HuggingFaceModel(\n",
    "    model_data=s3_path_join(\n",
    "        \"s3://\", sm_session_bucket, f\"async_inference/model/{MODEL_ARCHIVE}\"\n",
    "    ),\n",
    "    transformers_version=\"4.37.0\",\n",
    "    pytorch_version=\"2.1.0\",\n",
    "    py_version=\"py310\",\n",
    "    env=env,\n",
    "    role=sm_role,\n",
    ")"
   ]
  },
  {
   "cell_type": "code",
   "execution_count": null,
   "id": "c38bf8bf-2681-4475-b49b-89db367a600c",
   "metadata": {},
   "outputs": [],
   "source": [
    "# where the response payload or error will be stored\n",
    "async_config = AsyncInferenceConfig(\n",
    "    output_path=s3_path_join(\"s3://\", sm_session_bucket, \"async_inference/output\"),\n",
    "    failure_path=s3_path_join(\n",
    "        \"s3://\", sm_session_bucket, \"async_inference/output_errors\"\n",
    "    ),\n",
    ")"
   ]
  },
  {
   "cell_type": "code",
   "execution_count": null,
   "id": "783b2a82-8c38-4312-a48c-b1b930acb4d9",
   "metadata": {},
   "outputs": [],
   "source": [
    "%%time\n",
    "\n",
    "predictor = huggingface_model.deploy(\n",
    "    initial_instance_count=1,\n",
    "    instance_type=\"ml.g5.4xlarge\", # or ml.g5.2xlarge\n",
    "    async_inference_config=async_config,\n",
    ")"
   ]
  },
  {
   "cell_type": "code",
   "execution_count": null,
   "id": "961d575b-0990-4118-a503-74193829f4ed",
   "metadata": {},
   "outputs": [],
   "source": [
    "endpoint_name = predictor.endpoint_name"
   ]
  },
  {
   "cell_type": "code",
   "execution_count": 3,
   "id": "65b86978",
   "metadata": {},
   "outputs": [],
   "source": [
    "with open(\"endpoint.txt\", \"w\") as f:\n",
    "    json.dump({\n",
    "        \"endpoint_name\": endpoint_name\n",
    "    }, f)"
   ]
  },
  {
   "cell_type": "code",
   "execution_count": null,
   "id": "74df7a9a",
   "metadata": {},
   "outputs": [],
   "source": []
  }
 ],
 "metadata": {
  "kernelspec": {
   "display_name": "base",
   "language": "python",
   "name": "python3"
  },
  "language_info": {
   "codemirror_mode": {
    "name": "ipython",
    "version": 3
   },
   "file_extension": ".py",
   "mimetype": "text/x-python",
   "name": "python",
   "nbconvert_exporter": "python",
   "pygments_lexer": "ipython3",
   "version": "3.9.12"
  },
  "vscode": {
   "interpreter": {
    "hash": "2c97182bcee1c5a46c75e12f527516848bb4d812af65bc6ddf5c082f318f5a83"
   }
  }
 },
 "nbformat": 4,
 "nbformat_minor": 5
}
