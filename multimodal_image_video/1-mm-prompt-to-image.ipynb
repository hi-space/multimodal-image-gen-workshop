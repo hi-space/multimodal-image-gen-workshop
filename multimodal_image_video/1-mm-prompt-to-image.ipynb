{
 "cells": [
  {
   "attachments": {},
   "cell_type": "markdown",
   "metadata": {},
   "source": [
    "# Bedrock Stable Diffusion\n",
    "\n",
    "---\n",
    "\n",
    "Amazon Bedrock에서 Stability AI의 Text-to-Image 모델을 사용할 수 있습니다. (24년 9월 4일)\n",
    "\n",
    "Stable Image Ultra, Stable Diffusion 3 Large, Stable Image Core 모델은 모델은 다중 주제 프롬프트, 이미지 품질 및 타이포그래피에서 성능을 크게 개선하며 마케팅, 광고, 미디어, 엔터테인먼트, 리테일 등 다양한 사용 사례에 대한 고품질 비주얼을 빠르게 생성하는 데 사용할 수 있습니다. ([링크](https://aws.amazon.com/blogs/aws/stability-ais-best-image-generating-models-now-in-amazon-bedrock/))\n",
    "\n",
    "Stable Diffusion XL(SDXL)에 비해 Stable Image Ultra와 Stable Diffusion 3 Large의 주요 개선 사항 중 하나는 생성된 이미지의 텍스트 품질이 향상되고 혁신적인 Diffusion Transformer 아키텍처 덕분에 철자 및 인쇄 오류가 줄어든다는 것입니다. 이 아키텍처는 이미지와 텍스트에 대해 두 가지 별도의 가중치 세트를 구현하지만 두 모달리티 간의 정보 흐름을 가능하게 합니다.\n",
    "\n",
    "### Request Field\n",
    "\n",
    "- `mode` (str)\n",
    "  - `text-to-image`, `image-to-image` (only use in Stable Image 3)\n",
    "- `aspect_ration` (str)\n",
    "  - `16:9` / `1:1` / `21:9` / `2:3` / `3:2` / `4:5` / `5:4` / `9:16` / `9:21`\n",
    "- `negative_prompt`\n",
    "- `seed`\n",
    "- `output_format` (str)\n",
    "  - `png` / `jpeg` / `webp`\n",
    "\n",
    "### 참고 링크 \n",
    "\n",
    "- [stability.ai API 문서](https://platform.stability.ai/docs/api-reference#tag/Generate/paths/~1v2beta~1stable-image~1generate~1ultra/post)\n",
    "- [Bedrock Stability AI 문서](https://docs.aws.amazon.com/bedrock/latest/userguide/model-parameters-stability-diffusion.html)\n",
    "\n",
    "---"
   ]
  },
  {
   "cell_type": "code",
   "execution_count": null,
   "metadata": {},
   "outputs": [],
   "source": [
    "!pip install --quiet boto3 langchain"
   ]
  },
  {
   "cell_type": "code",
   "execution_count": null,
   "metadata": {},
   "outputs": [],
   "source": [
    "import os\n",
    "import sys\n",
    "\n",
    "ROOT_PATH = os.path.abspath(\"../\")\n",
    "sys.path.append(ROOT_PATH)\n",
    "\n",
    "import re\n",
    "import json\n",
    "import boto3\n",
    "from typing import List\n",
    "from PIL import Image, ImageOps\n",
    "from langchain.prompts import PromptTemplate\n",
    "\n",
    "from common.aws.claude import BedrockClaude\n",
    "from common.aws.titan_image import BedrockTitanImage, ImageParams, ImageSize\n",
    "from common.utils.images import display_image, encode_image_base64_from_file, save_base64_image\n",
    "\n",
    "\n",
    "def invoke_sd_model(modelId, request: dict):\n",
    "    bedrock = boto3.client(\"bedrock-runtime\")\n",
    "    try:\n",
    "        response = bedrock.invoke_model(body=json.dumps(request), modelId=modelId)\n",
    "        response_body = json.loads(response.get(\"body\").read())\n",
    "        return response_body[\"images\"][0]\n",
    "    except Exception as e:\n",
    "        print(f\"Cannot generate a image: {e}\")\n",
    "        return []"
   ]
  },
  {
   "cell_type": "code",
   "execution_count": null,
   "metadata": {},
   "outputs": [],
   "source": [
    "MODEL_STABLE_IMAGE_ULTRA = \"stability.stable-image-ultra-v1:0\"\n",
    "MODEL_STABLE_IMAGE_CORE = \"stability.stable-image-core-v1:0\"\n",
    "MODEL_SD3_LARGE = \"stability.sd3-large-v1:0\"\n",
    "MODEL_SDXL = \"stability.stable-diffusion-xl-v1\"\n",
    "\n",
    "bedrock_runtime = boto3.client(\"bedrock-runtime\")\n",
    "prompt = \"a beautiful mountain landscape\"\n",
    "seed = 44\n",
    "aspect_ratio = \"16:9\"\n",
    "output_format = \"png\"\n",
    "\n",
    "OUTPUT_PATH = \"./data\""
   ]
  },
  {
   "attachments": {},
   "cell_type": "markdown",
   "metadata": {},
   "source": [
    "### Stable Image Ultra\n",
    "\n",
    "---\n",
    "\n",
    "최고 품질의 사실적인 결과물을 생성하므로 전문 인쇄 미디어 및 대형 포맷 용도에 적합합니다. Stable Image Ultra는 뛰어난 디테일과 사실감을 렌더링하는 데 탁월합니다.\n",
    "\n",
    "---\n"
   ]
  },
  {
   "cell_type": "code",
   "execution_count": null,
   "metadata": {},
   "outputs": [],
   "source": [
    "body = {\n",
    "    \"prompt\": prompt,\n",
    "    \"mode\": \"text-to-image\",\n",
    "    \"aspect_ratio\": aspect_ratio,\n",
    "    \"seed\": seed,\n",
    "    \"output_format\": output_format\n",
    "\n",
    "}\n",
    "\n",
    "base64_image_1 = invoke_sd_model(MODEL_STABLE_IMAGE_ULTRA, body)\n",
    "display_image(base64_image_1)\n",
    "save_base64_image(base64str=base64_image_1, path=f\"{OUTPUT_PATH}/image-1.{output_format}\")"
   ]
  },
  {
   "cell_type": "markdown",
   "metadata": {},
   "source": [
    "### Stable Image Core\n",
    "\n",
    "---\n",
    "\n",
    "빠르고 경제적인 이미지 생성에 최적화되어 아이디어 구상 중 콘셉트를 빠르게 반복하는 데 적합합니다.\n",
    "\n",
    "---\n"
   ]
  },
  {
   "cell_type": "code",
   "execution_count": null,
   "metadata": {},
   "outputs": [],
   "source": [
    "body = {\n",
    "    \"prompt\": prompt,\n",
    "    \"mode\": \"text-to-image\",\n",
    "    \"aspect_ratio\": aspect_ratio,\n",
    "    \"seed\": seed,\n",
    "    \"output_format\": output_format\n",
    "}\n",
    "\n",
    "base64_image_2 = invoke_sd_model(MODEL_STABLE_IMAGE_CORE, body)\n",
    "display_image(base64_image_2)\n",
    "save_base64_image(base64str=base64_image_2, path=f\"{OUTPUT_PATH}/image-2.{output_format}\")"
   ]
  },
  {
   "cell_type": "markdown",
   "metadata": {},
   "source": [
    "### Stable Diffusion 3 Large\n",
    "\n",
    "---\n",
    "\n",
    "생성 속도와 출력 품질 간의 균형을 유지합니다. 웹 사이트, 뉴스레터, 마케팅 자료 등 대량의 고품질 디지털 자산을 제작하는 데 이상적입니다.\n",
    "\n",
    "---\n"
   ]
  },
  {
   "cell_type": "code",
   "execution_count": null,
   "metadata": {},
   "outputs": [],
   "source": [
    "# Text-to-Image\n",
    "body = {\n",
    "    \"prompt\": prompt,\n",
    "    \"mode\": \"text-to-image\",\n",
    "    \"aspect_ratio\": aspect_ratio,\n",
    "    \"seed\": seed,\n",
    "    \"output_format\": output_format\n",
    "\n",
    "}\n",
    "\n",
    "base64_image_3 = invoke_sd_model(MODEL_SD3_LARGE, body)\n",
    "display_image(base64_image_3)\n",
    "save_base64_image(base64str=base64_image_3, path=f\"{OUTPUT_PATH}/image-3.{output_format}\")"
   ]
  },
  {
   "cell_type": "code",
   "execution_count": null,
   "metadata": {},
   "outputs": [],
   "source": [
    "# Image-to-Image\n",
    "change_prompt = \"wide lake, cloudy sky, art\"\n",
    "body = {\n",
    "    \"prompt\": change_prompt,\n",
    "    \"mode\": \"image-to-image\",\n",
    "    \"image\": base64_image_1,\n",
    "    \"strength\": 0.7,\n",
    "    \"seed\": seed,\n",
    "    \"output_format\": output_format\n",
    "\n",
    "}\n",
    "\n",
    "base64_image_4 = invoke_sd_model(MODEL_SD3_LARGE, body)\n",
    "display_image(base64_image_4)\n",
    "save_base64_image(base64str=base64_image_4, path=f\"{OUTPUT_PATH}/image-4.{output_format}\")"
   ]
  },
  {
   "attachments": {},
   "cell_type": "markdown",
   "metadata": {},
   "source": [
    "# Multimodal Prompt-to-Image Generation\n",
    "\n",
    "---\n",
    "\n",
    "이미지 생성 모델을 사용하여 원하는 이미지를 생성하려면 프롬프트에서 이미지의 세부 사항을 정확하게 설명하는 것이 중요합니다. 그러나 사전 정보 없이 자세한 프롬프트를 만드는 것은 어려울 수 있습니다. 이를 돕기 위해 Multimodal LLM을 통해 사용자가 제공하는 스타일과 키워드를 기반으로 한 창의적인 이미지 프롬프트 아이디어를 제안합니다. 이를 통해 사용자는 보다 직관적으로 이미지 프롬프트를 생성할 수 있으며, 프롬프트 작성에 소요되는 노력을 줄일 수 있습니다.\n",
    "\n",
    "---"
   ]
  },
  {
   "cell_type": "code",
   "execution_count": null,
   "metadata": {},
   "outputs": [],
   "source": [
    "boto3_session = boto3.session.Session()\n",
    "print(f'The notebook will use aws services hosted in {boto3_session.region_name} region')\n",
    "\n",
    "image_params = ImageParams()\n",
    "image_params.set_configuration(count=1, size=ImageSize.SIZE_1152x640)\n",
    "titanImageGen = BedrockTitanImage(\n",
    "    region=boto3_session.region_name,\n",
    "    modelId='amazon.titan-image-generator-v2:0'\n",
    ")"
   ]
  },
  {
   "attachments": {},
   "cell_type": "markdown",
   "metadata": {},
   "source": [
    "## Basic Prompt\n",
    "\n",
    "---\n",
    "\n",
    "기본 이미지 생성 프롬프트를 사용했을 때 입니다. Titan Image Generation 모델은 Input Text를 영어만 지원합니다.\n",
    "\n",
    "---"
   ]
  },
  {
   "cell_type": "code",
   "execution_count": null,
   "metadata": {},
   "outputs": [],
   "source": [
    "keyword=\"champagne\",\n",
    "style=\"realistic\"\n",
    "\n",
    "# titan g1 v2\n",
    "body = image_params.text_to_image(text=f\"{keyword}, {style}\")\n",
    "img = titanImageGen.generate_image(body)[0]\n",
    "display_image(img)\n",
    "save_base64_image(img, f\"{OUTPUT_PATH}/gen_titan_basic.png\")\n",
    "\n",
    "# stable diffusion\n",
    "img = invoke_sd_model(MODEL_SD3_LARGE, {\n",
    "    \"prompt\": f\"{keyword}, {style}\",\n",
    "    \"aspect_ratio\": aspect_ratio,\n",
    "    \"seed\": seed,\n",
    "    \"output_format\": output_format\n",
    "})\n",
    "\n",
    "display_image(img)\n",
    "save_base64_image(img, f\"{OUTPUT_PATH}/gen_sd_basic.png\")"
   ]
  },
  {
   "attachments": {},
   "cell_type": "markdown",
   "metadata": {},
   "source": [
    "## LLM Prompt\n",
    "\n",
    "---\n",
    "LLM으로부터 Image Generation을 위한 프롬프트를 생성한 결과입니다. `style`, `keyword` 값을 입력하면, 해당 내용을 바탕으로 3개의 이미지 프롬프트를 제안합니다.\n",
    "\n",
    "- `style`: 원하는 무드나 스타일\n",
    "- `keyword`: 생성하고자 하는 이미지의 키워드\n",
    "---"
   ]
  },
  {
   "cell_type": "code",
   "execution_count": null,
   "metadata": {},
   "outputs": [],
   "source": [
    "PROMPT = \"\"\"You are an Assistant that creates prompts for generate background image by image generator model. The image that Human wants is written in <keyword>.\n",
    "Follow style guide in <style> and write three prompts for creating image keeping it to 300 characters or less. Use this fomat without further explanation: \n",
    "<prompt>image prompt</prompt>\n",
    "\n",
    "<keyword>\n",
    "{keyword}\n",
    "</keyword>\n",
    "\n",
    "<style>\n",
    "{style}\n",
    "</style>\n",
    "\"\"\"\n",
    "\n",
    "def extract_format(result_string):\n",
    "    pattern = r'<prompt>(.*?)</prompt>'\n",
    "    return re.findall(pattern, result_string)\n",
    "\n",
    "def get_prompt(keyword: str, style: str): \n",
    "    return PromptTemplate(\n",
    "                template=PROMPT,\n",
    "                input_variables=[\"keyword\", \"style\"]\n",
    "            ).format(keyword=keyword,\n",
    "                     style=style)\n",
    "\n",
    "def get_prompt_by_llm(prompt: str) -> List[str]:\n",
    "    claude = BedrockClaude()\n",
    "    res = claude.invoke_llm_response(prompt)\n",
    "    return extract_format(res)"
   ]
  },
  {
   "cell_type": "code",
   "execution_count": null,
   "metadata": {},
   "outputs": [],
   "source": [
    "prompt = get_prompt(\n",
    "    keyword=keyword,\n",
    "    style=style\n",
    ")\n",
    "\n",
    "image_prompts = get_prompt_by_llm(prompt)\n",
    "print(image_prompts)"
   ]
  },
  {
   "cell_type": "code",
   "execution_count": null,
   "metadata": {},
   "outputs": [],
   "source": [
    "for idx, prompt in enumerate(image_prompts):\n",
    "    print(f\"[PROMPT] {prompt}\")\n",
    "\n",
    "    # titan g1 v2\n",
    "    body = image_params.text_to_image(text=prompt)\n",
    "    img = titanImageGen.generate_image(body)[0]\n",
    "\n",
    "    display_image(img)\n",
    "    save_base64_image(img, f\"{OUTPUT_PATH}/gen_titan_llm_{idx+1}.png\")\n",
    "\n",
    "    # stable diffusion\n",
    "    img = invoke_sd_model(MODEL_SD3_LARGE, {\n",
    "        \"prompt\": prompt,\n",
    "        \"aspect_ratio\": aspect_ratio,\n",
    "        \"seed\": seed,\n",
    "        \"output_format\": output_format\n",
    "    })\n",
    "    display_image(img)\n",
    "    save_base64_image(img, f\"{OUTPUT_PATH}/gen_sd_llm_{idx+1}.png\")"
   ]
  },
  {
   "attachments": {},
   "cell_type": "markdown",
   "metadata": {},
   "source": [
    "## Multimodal LLM Prompt\n",
    "\n",
    "---\n",
    "\n",
    "Titan Image Generator 는 레퍼런스 이미지를 참조하여 새로운 이미지를 생성하는 몇 가지 옵션을 제공합니다.\n",
    "\n",
    "- **Image Conditioning**: 텍스트 프롬프트를 따르면서 참조 이미지의 레이아웃 및 구성과 일치하는 이미지를 생성\n",
    "  - 단순히 기존 이미지를 재구성하는 데 그칠 수 있어, 창의적인 자유도가 제한\n",
    "- **Color Guided Generation**: `referenceImage`를 통해 참조 색상들을 받아와 이미지의 색상 톤을 반영\n",
    "  - 일부 색상 톤을 반영하지만 이미지의 분위기나 재질 등을 반영하기 어려움\n",
    "- **Image Variation**: 소스 이미지는 보존하고, 스타일과 배경을 변형한 이미지 생성\n",
    "  - 변형의 범위가 제한적이고 원본 이미지에 제약이 있음\n",
    "\n",
    "위 방법들은 레퍼런스 이미지의 특정 속성(색상, 레이아웃, 소스 이미지 등)을 반영하는 데에는 유용하지만, 변형의 범위가 제한적이다 보니 창의적이고 복합적인 특징을 반영한, 완전히 새로운 이미지를 생성하는 데에 한계가 있습니다. Multimodal LLM을 통해 레퍼런스 이미지를 이해하고, 이를 바탕으로 타겟하는 이미지를 생성하도록 프롬프트를 생성하면 더 자유롭고 창의적인 이미지 프롬프트 생성이 가능합니다.\n",
    "\n",
    "---"
   ]
  },
  {
   "cell_type": "code",
   "execution_count": null,
   "metadata": {},
   "outputs": [],
   "source": [
    "PROMPT = \"\"\"You are an Assistant that creates prompts for generate background image by image generator model. The image that Human wants is written in <keyword>.\n",
    "            Write a images three creation prompts keeping it to 300 characters or less to maintain the style of a given image. Use this fomat without further explanation:\n",
    "            <prompt>image prompt</prompt>\n",
    "\n",
    "            <keyword>\n",
    "            {keyword}\n",
    "            </keyword>\n",
    "            \"\"\"\n",
    "\n",
    "def get_mm_prompt(keyword: str):\n",
    "    return PromptTemplate(\n",
    "                template=PROMPT,\n",
    "                input_variables=[\"keyword\"]\n",
    "            ).format(keyword=keyword)\n",
    "\n",
    "def get_prompt_by_mm_llm(prompt: str, image: str) -> List[str]:\n",
    "    claude = BedrockClaude()\n",
    "    res = claude.invoke_llm_response(text=prompt, image=image)\n",
    "    return extract_format(res)"
   ]
  },
  {
   "cell_type": "code",
   "execution_count": null,
   "metadata": {},
   "outputs": [],
   "source": [
    "input_image = encode_image_base64_from_file(f\"./sample/house.jpg\", format=\"JPEG\")\n",
    "display_image(input_image)\n",
    "\n",
    "prompt = get_mm_prompt(keyword=keyword)\n",
    "image_prompts = get_prompt_by_mm_llm(prompt=prompt, image=input_image)\n",
    "print(image_prompts)"
   ]
  },
  {
   "cell_type": "code",
   "execution_count": null,
   "metadata": {},
   "outputs": [],
   "source": [
    "for prompt in image_prompts:\n",
    "    print(prompt)\n",
    "        \n",
    "    # titan g1 v2\n",
    "    body = image_params.text_to_image(text=f\"{prompt}\")\n",
    "    img = titanImageGen.generate_image(body)[0]\n",
    "    \n",
    "    display_image(img)\n",
    "    save_base64_image(img, f\"{OUTPUT_PATH}/gen_titan_mmllm_{idx+1}.png\")\n",
    "\n",
    "    # stable diffusion\n",
    "    img = invoke_sd_model(MODEL_STABLE_IMAGE_CORE, {\n",
    "        \"prompt\": prompt,\n",
    "        \"aspect_ratio\": aspect_ratio,\n",
    "        \"seed\": seed,\n",
    "        \"output_format\": output_format\n",
    "    })\n",
    "    display_image(img)\n",
    "    save_base64_image(img, f\"{OUTPUT_PATH}/gen_sd_mmllm_{idx+1}.png\")"
   ]
  },
  {
   "cell_type": "code",
   "execution_count": null,
   "metadata": {},
   "outputs": [],
   "source": []
  }
 ],
 "metadata": {
  "kernelspec": {
   "display_name": "base",
   "language": "python",
   "name": "python3"
  },
  "language_info": {
   "codemirror_mode": {
    "name": "ipython",
    "version": 3
   },
   "file_extension": ".py",
   "mimetype": "text/x-python",
   "name": "python",
   "nbconvert_exporter": "python",
   "pygments_lexer": "ipython3",
   "version": "3.9.12"
  },
  "orig_nbformat": 4,
  "vscode": {
   "interpreter": {
    "hash": "2c97182bcee1c5a46c75e12f527516848bb4d812af65bc6ddf5c082f318f5a83"
   }
  }
 },
 "nbformat": 4,
 "nbformat_minor": 2
}
